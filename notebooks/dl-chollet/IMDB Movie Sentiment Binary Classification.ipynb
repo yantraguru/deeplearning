{
 "cells": [
  {
   "cell_type": "code",
   "execution_count": 29,
   "metadata": {},
   "outputs": [
    {
     "data": {
      "text/html": [
       "<style>.container { width:85% !important; }</style>"
      ],
      "text/plain": [
       "<IPython.core.display.HTML object>"
      ]
     },
     "metadata": {},
     "output_type": "display_data"
    }
   ],
   "source": [
    "from IPython.core.display import display, HTML\n",
    "display(HTML(\"<style>.container { width:85% !important; }</style>\"))"
   ]
  },
  {
   "cell_type": "code",
   "execution_count": 13,
   "metadata": {},
   "outputs": [],
   "source": [
    "import numpy as np\n",
    "\n",
    "from tensorflow import keras\n",
    "from tensorflow.keras import layers,models,utils\n",
    "\n",
    "import matplotlib.pyplot as plt"
   ]
  },
  {
   "cell_type": "code",
   "execution_count": 2,
   "metadata": {},
   "outputs": [],
   "source": [
    "def vectorize_sequences(sequences, dimension=10000):\n",
    "    results = np.zeros((len(sequences), dimension))\n",
    "    for i, sequence in enumerate(sequences):\n",
    "        results[i, sequence] = 1.\n",
    "    return results"
   ]
  },
  {
   "cell_type": "code",
   "execution_count": 3,
   "metadata": {},
   "outputs": [],
   "source": [
    "(x_train, y_train), (x_test, y_test) = keras.datasets.imdb.load_data(num_words=10000)"
   ]
  },
  {
   "cell_type": "code",
   "execution_count": 4,
   "metadata": {},
   "outputs": [
    {
     "name": "stdout",
     "output_type": "stream",
     "text": [
      "x_train shape : (25000,)\n",
      "y_train shape : (25000,)\n",
      "x_test shape : (25000,)\n",
      "y_test shape : (25000,)\n"
     ]
    }
   ],
   "source": [
    "print('x_train shape : %s' % str(x_train.shape))\n",
    "print('y_train shape : %s' % str(y_train.shape))\n",
    "print('x_test shape : %s' % str(x_test.shape))\n",
    "print('y_test shape : %s' % str(y_test.shape))"
   ]
  },
  {
   "cell_type": "code",
   "execution_count": 5,
   "metadata": {},
   "outputs": [],
   "source": [
    "x_train = vectorize_sequences(x_train)\n",
    "x_test = vectorize_sequences(x_test)"
   ]
  },
  {
   "cell_type": "code",
   "execution_count": 6,
   "metadata": {},
   "outputs": [
    {
     "name": "stdout",
     "output_type": "stream",
     "text": [
      "x_train shape : (25000, 10000)\n",
      "x_test shape : (25000, 10000)\n"
     ]
    }
   ],
   "source": [
    "print('x_train shape : %s' % str(x_train.shape))\n",
    "print('x_test shape : %s' % str(x_test.shape))"
   ]
  },
  {
   "cell_type": "code",
   "execution_count": 7,
   "metadata": {},
   "outputs": [],
   "source": [
    "y_train = np.asarray(y_train).astype('float32')\n",
    "y_test = np.asarray(y_test).astype('float32')"
   ]
  },
  {
   "cell_type": "code",
   "execution_count": 8,
   "metadata": {},
   "outputs": [
    {
     "name": "stdout",
     "output_type": "stream",
     "text": [
      "WARNING:tensorflow:From /home/algolaptop8/anaconda3/envs/dl-env/lib/python3.7/site-packages/tensorflow/python/ops/resource_variable_ops.py:435: colocate_with (from tensorflow.python.framework.ops) is deprecated and will be removed in a future version.\n",
      "Instructions for updating:\n",
      "Colocations handled automatically by placer.\n"
     ]
    }
   ],
   "source": [
    "model = models.Sequential()\n",
    "model.add(layers.Dense(16, activation='relu', input_shape=(10000,)))\n",
    "model.add(layers.Dense(16, activation='relu'))\n",
    "model.add(layers.Dense(1, activation='sigmoid'))"
   ]
  },
  {
   "cell_type": "code",
   "execution_count": 10,
   "metadata": {},
   "outputs": [],
   "source": [
    "model.compile(optimizer='rmsprop',\n",
    "              loss='binary_crossentropy',\n",
    "              metrics=['accuracy'])"
   ]
  },
  {
   "cell_type": "code",
   "execution_count": 11,
   "metadata": {},
   "outputs": [],
   "source": [
    "x_val = x_train[:10000]\n",
    "x_train = x_train[10000:]\n",
    "y_val = y_train[:10000]\n",
    "y_train = y_train[10000:]"
   ]
  },
  {
   "cell_type": "code",
   "execution_count": 12,
   "metadata": {},
   "outputs": [
    {
     "name": "stdout",
     "output_type": "stream",
     "text": [
      "Train on 15000 samples, validate on 10000 samples\n",
      "WARNING:tensorflow:From /home/algolaptop8/anaconda3/envs/dl-env/lib/python3.7/site-packages/tensorflow/python/ops/math_ops.py:3066: to_int32 (from tensorflow.python.ops.math_ops) is deprecated and will be removed in a future version.\n",
      "Instructions for updating:\n",
      "Use tf.cast instead.\n",
      "Epoch 1/20\n",
      "15000/15000 [==============================] - 3s 232us/sample - loss: 0.5325 - acc: 0.7813 - val_loss: 0.4007 - val_acc: 0.8690\n",
      "Epoch 2/20\n",
      "15000/15000 [==============================] - 1s 67us/sample - loss: 0.3219 - acc: 0.8999 - val_loss: 0.3223 - val_acc: 0.8740\n",
      "Epoch 3/20\n",
      "15000/15000 [==============================] - 1s 72us/sample - loss: 0.2324 - acc: 0.9248 - val_loss: 0.2816 - val_acc: 0.8923\n",
      "Epoch 4/20\n",
      "15000/15000 [==============================] - 1s 71us/sample - loss: 0.1843 - acc: 0.9394 - val_loss: 0.2784 - val_acc: 0.8894\n",
      "Epoch 5/20\n",
      "15000/15000 [==============================] - 1s 68us/sample - loss: 0.1482 - acc: 0.9530 - val_loss: 0.3166 - val_acc: 0.8741\n",
      "Epoch 6/20\n",
      "15000/15000 [==============================] - 1s 68us/sample - loss: 0.1214 - acc: 0.9631 - val_loss: 0.2914 - val_acc: 0.8867\n",
      "Epoch 7/20\n",
      "15000/15000 [==============================] - 1s 69us/sample - loss: 0.1020 - acc: 0.9685 - val_loss: 0.3098 - val_acc: 0.8825\n",
      "Epoch 8/20\n",
      "15000/15000 [==============================] - 1s 69us/sample - loss: 0.0818 - acc: 0.9779 - val_loss: 0.3252 - val_acc: 0.8814\n",
      "Epoch 9/20\n",
      "15000/15000 [==============================] - 1s 69us/sample - loss: 0.0681 - acc: 0.9817 - val_loss: 0.3586 - val_acc: 0.8799\n",
      "Epoch 10/20\n",
      "15000/15000 [==============================] - 1s 73us/sample - loss: 0.0520 - acc: 0.9883 - val_loss: 0.3877 - val_acc: 0.8739\n",
      "Epoch 11/20\n",
      "15000/15000 [==============================] - 1s 72us/sample - loss: 0.0450 - acc: 0.9901 - val_loss: 0.4448 - val_acc: 0.8647\n",
      "Epoch 12/20\n",
      "15000/15000 [==============================] - 1s 74us/sample - loss: 0.0360 - acc: 0.9918 - val_loss: 0.4307 - val_acc: 0.8745\n",
      "Epoch 13/20\n",
      "15000/15000 [==============================] - 1s 68us/sample - loss: 0.0279 - acc: 0.9946 - val_loss: 0.5028 - val_acc: 0.8681\n",
      "Epoch 14/20\n",
      "15000/15000 [==============================] - 1s 70us/sample - loss: 0.0202 - acc: 0.9973 - val_loss: 0.4966 - val_acc: 0.8704\n",
      "Epoch 15/20\n",
      "15000/15000 [==============================] - 1s 70us/sample - loss: 0.0178 - acc: 0.9971 - val_loss: 0.5283 - val_acc: 0.8723\n",
      "Epoch 16/20\n",
      "15000/15000 [==============================] - 1s 68us/sample - loss: 0.0155 - acc: 0.9972 - val_loss: 0.5587 - val_acc: 0.8701\n",
      "Epoch 17/20\n",
      "15000/15000 [==============================] - 1s 69us/sample - loss: 0.0087 - acc: 0.9993 - val_loss: 0.5922 - val_acc: 0.8677\n",
      "Epoch 18/20\n",
      "15000/15000 [==============================] - 1s 69us/sample - loss: 0.0108 - acc: 0.9976 - val_loss: 0.6296 - val_acc: 0.8669\n",
      "Epoch 19/20\n",
      "15000/15000 [==============================] - 1s 68us/sample - loss: 0.0046 - acc: 0.9995 - val_loss: 0.6857 - val_acc: 0.8652\n",
      "Epoch 20/20\n",
      "15000/15000 [==============================] - 1s 69us/sample - loss: 0.0069 - acc: 0.9985 - val_loss: 0.6908 - val_acc: 0.8672\n"
     ]
    }
   ],
   "source": [
    "history = model.fit(x_train, y_train, epochs=20, batch_size=512,\n",
    "                    validation_data=(x_val, y_val))"
   ]
  },
  {
   "cell_type": "code",
   "execution_count": 17,
   "metadata": {},
   "outputs": [
    {
     "data": {
      "image/png": "[encoded data removed]",
      "text/plain": [
       "<Figure size 1080x540 with 1 Axes>"
      ]
     },
     "metadata": {
      "needs_background": "light"
     },
     "output_type": "display_data"
    }
   ],
   "source": [
    "plt.figure(figsize=(15,7.5))\n",
    "history_dict = history.history\n",
    "loss_values = history_dict['loss']\n",
    "val_loss_values = history_dict['val_loss']\n",
    "epochs = range(1, len(loss_values) + 1)\n",
    "plt.plot(epochs, loss_values, 'bo', label='Training loss')\n",
    "plt.plot(epochs, val_loss_values, 'b', label='Validation loss')\n",
    "plt.title('Training and validation loss')\n",
    "plt.xlabel('Epochs')\n",
    "plt.ylabel('Loss')\n",
    "plt.legend()\n",
    "plt.show()"
   ]
  },
  {
   "cell_type": "code",
   "execution_count": 19,
   "metadata": {},
   "outputs": [
    {
     "data": {
      "image/png": "[encoded data removed]",
      "text/plain": [
       "<Figure size 1080x540 with 1 Axes>"
      ]
     },
     "metadata": {
      "needs_background": "light"
     },
     "output_type": "display_data"
    }
   ],
   "source": [
    "plt.figure(figsize=(15,7.5))\n",
    "acc_values = history_dict['acc']\n",
    "val_acc_values = history_dict['val_acc']\n",
    "epochs = range(1, len(acc_values) + 1)\n",
    "plt.plot(epochs, acc_values, 'bo', label='Training acc')\n",
    "plt.plot(epochs, val_acc_values, 'b', label='Validation acc')\n",
    "plt.title('Training and validation accuracy')\n",
    "plt.xlabel('Epochs')\n",
    "plt.ylabel('Loss')\n",
    "plt.legend()\n",
    "plt.show()"
   ]
  },
  {
   "cell_type": "code",
   "execution_count": 20,
   "metadata": {},
   "outputs": [],
   "source": [
    "(x_train, y_train), (x_test, y_test) = keras.datasets.imdb.load_data(num_words=10000)\n",
    "x_train = vectorize_sequences(x_train)\n",
    "x_test = vectorize_sequences(x_test)\n",
    "\n",
    "y_train = np.asarray(y_train).astype('float32')\n",
    "y_test = np.asarray(y_test).astype('float32')"
   ]
  },
  {
   "cell_type": "code",
   "execution_count": 21,
   "metadata": {},
   "outputs": [],
   "source": [
    "model = models.Sequential()\n",
    "model.add(layers.Dense(16, activation='relu', input_shape=(10000,)))\n",
    "model.add(layers.Dense(16, activation='relu'))\n",
    "model.add(layers.Dense(1, activation='sigmoid'))\n",
    "\n",
    "model.compile(optimizer='rmsprop',\n",
    "              loss='binary_crossentropy',\n",
    "              metrics=['accuracy'])"
   ]
  },
  {
   "cell_type": "code",
   "execution_count": 22,
   "metadata": {},
   "outputs": [
    {
     "name": "stdout",
     "output_type": "stream",
     "text": [
      "Epoch 1/4\n",
      "25000/25000 [==============================] - 1s 47us/sample - loss: 0.4535 - acc: 0.8250\n",
      "Epoch 2/4\n",
      "25000/25000 [==============================] - 1s 38us/sample - loss: 0.2581 - acc: 0.9104\n",
      "Epoch 3/4\n",
      "25000/25000 [==============================] - 1s 38us/sample - loss: 0.1982 - acc: 0.93090s - loss: 0.1947 - \n",
      "Epoch 4/4\n",
      "25000/25000 [==============================] - 1s 36us/sample - loss: 0.1639 - acc: 0.9430\n"
     ]
    },
    {
     "data": {
      "text/plain": [
       "<tensorflow.python.keras.callbacks.History at 0x7fb32ba43160>"
      ]
     },
     "execution_count": 22,
     "metadata": {},
     "output_type": "execute_result"
    }
   ],
   "source": [
    "model.fit(x_train, y_train, epochs=4, batch_size=512)"
   ]
  },
  {
   "cell_type": "code",
   "execution_count": 23,
   "metadata": {},
   "outputs": [
    {
     "name": "stdout",
     "output_type": "stream",
     "text": [
      "25000/25000 [==============================] - 1s 50us/sample - loss: 0.3039 - acc: 0.8806\n"
     ]
    },
    {
     "data": {
      "text/plain": [
       "[0.3039315836954117, 0.88056]"
      ]
     },
     "execution_count": 23,
     "metadata": {},
     "output_type": "execute_result"
    }
   ],
   "source": [
    "model.evaluate(x_test, y_test)"
   ]
  },
  {
   "cell_type": "markdown",
   "metadata": {},
   "source": [
    "### Using more layers"
   ]
  },
  {
   "cell_type": "code",
   "execution_count": 24,
   "metadata": {},
   "outputs": [],
   "source": [
    "x_val = x_train[:10000]\n",
    "x_train = x_train[10000:]\n",
    "y_val = y_train[:10000]\n",
    "y_train = y_train[10000:]"
   ]
  },
  {
   "cell_type": "code",
   "execution_count": 31,
   "metadata": {},
   "outputs": [],
   "source": [
    "model = models.Sequential()\n",
    "model.add(layers.Dense(16, activation='relu', input_shape=(10000,)))\n",
    "model.add(layers.Dense(16, activation='relu'))\n",
    "model.add(layers.Dense(16, activation='relu'))\n",
    "model.add(layers.Dense(1, activation='sigmoid'))\n",
    "\n",
    "model.compile(optimizer='rmsprop',\n",
    "              loss='binary_crossentropy',\n",
    "              metrics=['accuracy'])"
   ]
  },
  {
   "cell_type": "code",
   "execution_count": 32,
   "metadata": {},
   "outputs": [
    {
     "name": "stdout",
     "output_type": "stream",
     "text": [
      "Train on 15000 samples, validate on 10000 samples\n",
      "Epoch 1/10\n",
      "15000/15000 [==============================] - 1s 70us/sample - loss: 0.5983 - acc: 0.6872 - val_loss: 0.4780 - val_acc: 0.8592\n",
      "Epoch 2/10\n",
      "15000/15000 [==============================] - 1s 69us/sample - loss: 0.3652 - acc: 0.8937 - val_loss: 0.3296 - val_acc: 0.8791\n",
      "Epoch 3/10\n",
      "15000/15000 [==============================] - 1s 69us/sample - loss: 0.2433 - acc: 0.9239 - val_loss: 0.2825 - val_acc: 0.8887\n",
      "Epoch 4/10\n",
      "15000/15000 [==============================] - 1s 69us/sample - loss: 0.1846 - acc: 0.9379 - val_loss: 0.2841 - val_acc: 0.8859\n",
      "Epoch 5/10\n",
      "15000/15000 [==============================] - 1s 69us/sample - loss: 0.1468 - acc: 0.9539 - val_loss: 0.2963 - val_acc: 0.8825\n",
      "Epoch 6/10\n",
      "15000/15000 [==============================] - 1s 69us/sample - loss: 0.1213 - acc: 0.9621 - val_loss: 0.2947 - val_acc: 0.8838\n",
      "Epoch 7/10\n",
      "15000/15000 [==============================] - 1s 69us/sample - loss: 0.0996 - acc: 0.9696 - val_loss: 0.3084 - val_acc: 0.8824\n",
      "Epoch 8/10\n",
      "15000/15000 [==============================] - 1s 69us/sample - loss: 0.0774 - acc: 0.9781 - val_loss: 0.3318 - val_acc: 0.8828\n",
      "Epoch 9/10\n",
      "15000/15000 [==============================] - 1s 69us/sample - loss: 0.0621 - acc: 0.9837 - val_loss: 0.3820 - val_acc: 0.8758\n",
      "Epoch 10/10\n",
      "15000/15000 [==============================] - 1s 70us/sample - loss: 0.0486 - acc: 0.9882 - val_loss: 0.3994 - val_acc: 0.8760\n"
     ]
    }
   ],
   "source": [
    "history = model.fit(x_train, y_train, epochs=10, batch_size=512,\n",
    "                    validation_data=(x_val, y_val))"
   ]
  },
  {
   "cell_type": "markdown",
   "metadata": {},
   "source": [
    "### Using more hidden units"
   ]
  },
  {
   "cell_type": "code",
   "execution_count": 33,
   "metadata": {},
   "outputs": [],
   "source": [
    "model = models.Sequential()\n",
    "model.add(layers.Dense(64, activation='relu', input_shape=(10000,)))\n",
    "model.add(layers.Dense(32, activation='relu'))\n",
    "model.add(layers.Dense(16, activation='relu'))\n",
    "model.add(layers.Dense(1, activation='sigmoid'))\n",
    "\n",
    "model.compile(optimizer='rmsprop',\n",
    "              loss='binary_crossentropy',\n",
    "              metrics=['accuracy'])"
   ]
  },
  {
   "cell_type": "code",
   "execution_count": 34,
   "metadata": {},
   "outputs": [
    {
     "name": "stdout",
     "output_type": "stream",
     "text": [
      "Train on 15000 samples, validate on 10000 samples\n",
      "Epoch 1/10\n",
      "15000/15000 [==============================] - 1s 74us/sample - loss: 0.4981 - acc: 0.7619 - val_loss: 0.3650 - val_acc: 0.8476\n",
      "Epoch 2/10\n",
      "15000/15000 [==============================] - 1s 68us/sample - loss: 0.2707 - acc: 0.9016 - val_loss: 0.3123 - val_acc: 0.8759\n",
      "Epoch 3/10\n",
      "15000/15000 [==============================] - 1s 62us/sample - loss: 0.2059 - acc: 0.9223 - val_loss: 0.2765 - val_acc: 0.8902\n",
      "Epoch 4/10\n",
      "15000/15000 [==============================] - 1s 67us/sample - loss: 0.1446 - acc: 0.9481 - val_loss: 0.3116 - val_acc: 0.8818\n",
      "Epoch 5/10\n",
      "15000/15000 [==============================] - 1s 49us/sample - loss: 0.1187 - acc: 0.9575 - val_loss: 0.3100 - val_acc: 0.8842\n",
      "Epoch 6/10\n",
      "15000/15000 [==============================] - 1s 47us/sample - loss: 0.0799 - acc: 0.9735 - val_loss: 0.3624 - val_acc: 0.8808\n",
      "Epoch 7/10\n",
      "15000/15000 [==============================] - 1s 50us/sample - loss: 0.0687 - acc: 0.9787 - val_loss: 0.3675 - val_acc: 0.8824\n",
      "Epoch 8/10\n",
      "15000/15000 [==============================] - 1s 48us/sample - loss: 0.0488 - acc: 0.9847 - val_loss: 0.4023 - val_acc: 0.8820\n",
      "Epoch 9/10\n",
      "15000/15000 [==============================] - 1s 50us/sample - loss: 0.0424 - acc: 0.9865 - val_loss: 0.4276 - val_acc: 0.8802\n",
      "Epoch 10/10\n",
      "15000/15000 [==============================] - 1s 46us/sample - loss: 0.0097 - acc: 0.9993 - val_loss: 0.4975 - val_acc: 0.8794\n"
     ]
    }
   ],
   "source": [
    "history = model.fit(x_train, y_train, epochs=10, batch_size=512,\n",
    "                    validation_data=(x_val, y_val))"
   ]
  },
  {
   "cell_type": "markdown",
   "metadata": {},
   "source": [
    "### Using tanh activation"
   ]
  },
  {
   "cell_type": "code",
   "execution_count": 35,
   "metadata": {},
   "outputs": [],
   "source": [
    "model = models.Sequential()\n",
    "model.add(layers.Dense(64, activation='relu', input_shape=(10000,)))\n",
    "model.add(layers.Dense(32, activation='tanh'))\n",
    "model.add(layers.Dense(16, activation='relu'))\n",
    "model.add(layers.Dense(1, activation='sigmoid'))\n",
    "\n",
    "model.compile(optimizer='rmsprop',\n",
    "              loss='binary_crossentropy',\n",
    "              metrics=['accuracy'])"
   ]
  },
  {
   "cell_type": "code",
   "execution_count": 36,
   "metadata": {},
   "outputs": [
    {
     "name": "stdout",
     "output_type": "stream",
     "text": [
      "Train on 15000 samples, validate on 10000 samples\n",
      "Epoch 1/10\n",
      "15000/15000 [==============================] - 1s 70us/sample - loss: 0.4924 - acc: 0.7657 - val_loss: 0.3285 - val_acc: 0.8828\n",
      "Epoch 2/10\n",
      "15000/15000 [==============================] - 1s 59us/sample - loss: 0.2652 - acc: 0.9054 - val_loss: 0.3326 - val_acc: 0.8623\n",
      "Epoch 3/10\n",
      "15000/15000 [==============================] - 1s 58us/sample - loss: 0.1907 - acc: 0.9302 - val_loss: 0.2879 - val_acc: 0.8857\n",
      "Epoch 4/10\n",
      "15000/15000 [==============================] - 1s 56us/sample - loss: 0.1459 - acc: 0.9499 - val_loss: 0.3105 - val_acc: 0.8830\n",
      "Epoch 5/10\n",
      "15000/15000 [==============================] - 1s 56us/sample - loss: 0.1113 - acc: 0.9635 - val_loss: 0.3102 - val_acc: 0.8823\n",
      "Epoch 6/10\n",
      "15000/15000 [==============================] - 1s 57us/sample - loss: 0.0833 - acc: 0.9739 - val_loss: 0.3435 - val_acc: 0.8798\n",
      "Epoch 7/10\n",
      "15000/15000 [==============================] - 1s 57us/sample - loss: 0.0713 - acc: 0.9801 - val_loss: 0.3807 - val_acc: 0.8792\n",
      "Epoch 8/10\n",
      "15000/15000 [==============================] - 1s 58us/sample - loss: 0.0448 - acc: 0.9890 - val_loss: 0.4339 - val_acc: 0.8755\n",
      "Epoch 9/10\n",
      "15000/15000 [==============================] - 1s 58us/sample - loss: 0.0192 - acc: 0.9973 - val_loss: 0.4504 - val_acc: 0.8760\n",
      "Epoch 10/10\n",
      "15000/15000 [==============================] - 1s 60us/sample - loss: 0.0561 - acc: 0.9859 - val_loss: 0.4688 - val_acc: 0.8769\n"
     ]
    }
   ],
   "source": [
    "history = model.fit(x_train, y_train, epochs=10, batch_size=512,\n",
    "                    validation_data=(x_val, y_val))"
   ]
  }
 ],
 "metadata": {
  "kernelspec": {
   "display_name": "Python 3",
   "language": "python",
   "name": "python3"
  },
  "language_info": {
   "codemirror_mode": {
    "name": "ipython",
    "version": 3
   },
   "file_extension": ".py",
   "mimetype": "text/x-python",
   "name": "python",
   "nbconvert_exporter": "python",
   "pygments_lexer": "ipython3",
   "version": "3.7.3"
  }
 },
 "nbformat": 4,
 "nbformat_minor": 2
}
